{
  "nbformat": 4,
  "nbformat_minor": 0,
  "metadata": {
    "colab": {
      "provenance": []
    },
    "kernelspec": {
      "name": "python3",
      "display_name": "Python 3"
    },
    "language_info": {
      "name": "python"
    }
  },
  "cells": [
    {
      "cell_type": "markdown",
      "source": [
        "**Objetivos del Framework**\n",
        "\n",
        "Para garantizar el cumplimiento de las politicas de gobernanza de la organización es fundamental definir los principos básicos para llevar a cabo el proyecto de un mapa de riesgo de suicidios en Bogotá, entre los que se encuentran los siguientes:\n",
        "\n",
        "1. Calidad de los datos:\n",
        "Asegurar la precisión, integridad y consistencia de la información:\n",
        "Alinear la calidad de los datos con los objetivos estratégicos de la organización.\n",
        "Establecer métricas y KPIs para medir la calidad de los datos y realizar un seguimiento continuo.\n",
        "\n",
        "2. Seguridad y privacidad:\n",
        "Proteger la información personal y sensible de los individuos:\n",
        "Implementar medidas de seguridad robustas para prevenir accesos no autorizados, pérdida o corrupción de datos.\n",
        "Garantizar el cumplimiento de las regulaciones de privacidad de datos aplicables.\n",
        "\n",
        "3. Accesibilidad:\n",
        "Facilitar el acceso a los datos para quienes estén autorizados a utilizarlos:\n",
        "Proporcionar acceso seguro y controlado a los datos, según los roles y permisos de cada usuario.\n",
        "Documentar y comunicar claramente las políticas de acceso a los datos.\n",
        "\n",
        "4. Integridad:\n",
        "Mantener la información libre de manipulaciones no autorizadas:\n",
        "Establecer procesos de aprobación y control de cambios para garantizar la integridad de los datos.\n",
        "Implementar mecanismos de auditoría para rastrear las modificaciones realizadas a los datos.\n",
        "\n",
        "5. Conformidad:\n",
        "Cumplir con las regulaciones y normativas aplicables, tanto a nivel nacional como internacional\n",
        "Mantener una matriz de riesgos para identificar y gestionar los riesgos asociados al cumplimiento normativo.\n",
        "Realizar evaluaciones de impacto en la privacidad de datos (DPIA) para los nuevos proyectos o cambios significativos."
      ],
      "metadata": {
        "id": "EUvPQJGMWZ_g"
      }
    },
    {
      "cell_type": "markdown",
      "source": [
        "\n",
        "**Componentes del Framework**\n",
        "\n",
        "1. Política de Datos:\n",
        "\n",
        "Definir los principios fundamentales que guiarán el manejo de los datos.\n",
        "Establecer roles y responsabilidades de las personas involucradas.\n",
        "Detallar los procesos para la recolección, almacenamiento, uso y eliminación de los datos.\n",
        "Especificar las medidas de seguridad y privacidad.\n",
        "\n",
        "Metadatos:\n",
        "Documentar de manera detallada la información sobre los datos: origen, formato, calidad, etc.\n",
        "Facilitar la comprensión y el uso de los datos por parte de diferentes usuarios.\n",
        "\n",
        "Gestión de la Calidad de los Datos:\n",
        "Establecer procesos para garantizar la calidad de los datos a lo largo de todo su ciclo de vida.\n",
        "Definir métricas y indicadores para medir la calidad.\n",
        "\n",
        "Seguridad de la Información:\n",
        "Implementar medidas de seguridad técnicas y administrativas para proteger los datos de accesos no autorizados.\n",
        "Realizar evaluaciones de riesgos periódicas.\n",
        "\n",
        "Privacidad:\n",
        "Cumplir con las regulaciones de protección de datos personales.\n",
        "Anonimizar o pseudonimizar los datos en la medida de lo posible.\n",
        "Obtener el consentimiento informado de los participantes, si es necesario.\n",
        "\n",
        "Acceso y Uso de los Datos:\n",
        "Establecer mecanismos de control de acceso para garantizar que solo las personas autorizadas puedan acceder a los datos.\n",
        "Definir los usos permitidos de los datos.\n",
        "\n",
        "Conservación y Eliminación de los Datos:\n",
        "Establecer políticas para la conservación y eliminación de los datos.\n",
        "Cumplir con los requisitos legales de retención de datos.\n",
        "Consideraciones Específicas para este Proyecto\n",
        "\n",
        "2. Sensibilidad de los datos:\n",
        "\n",
        "Dada la naturaleza de los datos, es fundamental priorizar la privacidad y la seguridad.\n",
        "\n",
        "Geolocalización: Al tratarse de datos geoespaciales, es necesario considerar las implicaciones éticas y legales de la geolocalización.\n",
        "\n",
        "Visualización: La visualización de datos sensibles requiere un cuidado especial para evitar la identificación de individuos o lugares especifícos.\n",
        "\n"
      ],
      "metadata": {
        "id": "8y5v-lsSWSDd"
      }
    },
    {
      "cell_type": "markdown",
      "source": [
        "**Herramientas y tecnologías implementadas**\n",
        "\n",
        "\n",
        "La elección de las herramientas y tecnologías depende de factores como el tamaño de los datos, la complejidad del análisis y los recursos disponibles.\n",
        "\n",
        "Bases de datos: PostgreSQL, SQL Server\n",
        "\n",
        "Herramientas de visualización: Power BI\n",
        "\n",
        "Lenguajes de programación: Python\n",
        "\n",
        "Plataformas en la nube:  AWS, Azure."
      ],
      "metadata": {
        "id": "837yx3lwYSNX"
      }
    },
    {
      "cell_type": "markdown",
      "source": [
        "**EJE CLAVE PARA EL CONTROL DE LA GESTIÓN DE DATOS DEL FRAMEWORK**\n",
        "\n",
        "Calidad de los datos:\n",
        "\n",
        "Precisión: Asegurar que los datos reflejen la realidad de manera exacta.\n",
        "Errores en la geolocalización o en la clasificación de los eventos pueden llevar a conclusiones erróneas.\n",
        "\n",
        "Completitud: Garantizar que todos los datos relevantes estén incluidos. Ausencias de datos pueden generar sesgos en el análisis.\n",
        "\n",
        "Consistencia: Verificar que los datos sean coherentes entre sí y con otras fuentes de información. Inconsistencias pueden dificultar la interpretación.\n",
        "\n",
        "Actualidad: Mantener los datos actualizados para reflejar la situación actual. Datos obsoletos pueden no ser representativos.\n",
        "Privacidad:\n",
        "\n",
        "Anonimización: Transformar los datos de manera que no sea posible identificar a las personas involucradas.\n",
        "\n",
        "Seguridad: Implementar medidas técnicas y organizativas para proteger los datos de accesos no autorizados.\n",
        "\n",
        "Cumplimiento normativo: Asegurar el cumplimiento de las regulaciones de protección de datos, tanto a nivel nacional como internacional."
      ],
      "metadata": {
        "id": "3R_8vrv0ZAlo"
      }
    }
  ]
}